{
  "nbformat": 4,
  "nbformat_minor": 0,
  "metadata": {
    "colab": {
      "provenance": []
    },
    "kernelspec": {
      "name": "python3",
      "display_name": "Python 3"
    },
    "language_info": {
      "name": "python"
    }
  },
  "cells": [
    {
      "cell_type": "markdown",
      "source": [
        "#Data Types and Structure Questions\n",
        "\n",
        "1. What are data structures, and why are they important?\n",
        "   - Data structures are organized ways to store, manage, and retrieve data efficiently in a computer. They are important because they help in optimizing the performance of algorithms, making data access and manipulation faster and more efficient. Proper use of data structures enables better memory usage, faster processing, and easier code management, which is crucial for solving complex computational problems effectively.\n",
        "\n",
        "2. Explain the difference between mutable and immutable data types with examples.\n",
        "   - Mutable data types can be changed after creation, while immutable data types cannot be changed once created. For example, lists in Python are mutable, so you can modify their elements like `my_list[0] = 10`, whereas strings are immutable, so changing a character like `my_str[0] = 'a'` will result in an error. Other mutable types include dictionaries and sets, while immutable types include tuples, integers, and floats.\n",
        "\n",
        "3. What are the main differences between lists and tuples in Python?\n",
        "   - The main differences between lists and tuples in Python are that lists are mutable while tuples are immutable, meaning lists can be modified after creation but tuples cannot. Lists use square brackets `[]`, and tuples use parentheses `()`. Lists generally have more built-in methods and are slightly slower than tuples due to their mutability. Tuples are often used for fixed collections of items, while lists are preferred when the data may change.\n",
        "\n",
        "4. Describe how dictionaries store data?\n",
        "   - Dictionaries in Python store data as key-value pairs using a hash table, where each key is hashed to generate a unique index that determines where the value is stored in memory. This allows for fast access, insertion, and deletion based on keys. Keys must be immutable and unique, while values can be of any data type and can be duplicated.\n",
        "\n",
        "5. Why might you use a set instead of a list in Python?\n",
        "   - I might use a set instead of a list in Python when you need to store unique elements and perform fast membership tests, as sets automatically eliminate duplicates and offer faster lookup times due to their underlying hash table implementation. Sets are ideal for operations like union, intersection, and difference, which are more efficient compared to lists.\n",
        "\n",
        "6. What is a string in Python, and how is it different from a list?\n",
        "   - A string in Python is an immutable sequence of characters used to represent text, whereas a list is a mutable sequence that can contain elements of any data type. Strings are enclosed in quotes (`' '` or `\" \"`), and cannot be changed after creation, while lists use square brackets `[]` and allow modification of their elements.\n",
        "\n",
        "7. How do tuples ensure data integrity in Python?\n",
        "   - Tuples ensure data integrity in Python by being immutable, meaning once a tuple is created, its elements cannot be modified, added, or removed. This immutability guarantees that the data stored in a tuple remains constant throughout the program, preventing accidental changes and maintaining the integrity of the data.\n",
        "\n",
        "8. What is a hash table, and how does it relate to dictionaries in Python?\n",
        "   - A hash table is a data structure that stores key-value pairs and uses a hash function to compute an index (hash) where the value associated with a key is stored. In Python, dictionaries are implemented using hash tables, which allow for fast lookups, insertions, and deletions by mapping keys to specific indices based on their hash values. This is why dictionary operations are generally efficient with an average time complexity of O(1).\n",
        "\n",
        "9. Can lists contain different data types in Python?\n",
        "   - Yes, lists in Python can contain elements of different data types. A single list can hold integers, strings, floats, other lists, or even custom objects. For example, a list like `[1, \"hello\", 3.14, [1, 2]]` is valid in Python. This flexibility allows lists to be used for a wide range of applications.\n",
        "\n",
        "10. Explain why strings are immutable in Python?\n",
        "   - Strings are immutable in Python to ensure that their data cannot be changed after creation, which improves performance and security. This immutability allows strings to be used as reliable keys in dictionaries (since they won't change) and helps optimize memory usage by enabling string interning, where identical strings share the same memory location. Additionally, immutability makes strings hashable and ensures that their value remains consistent throughout the program.\n",
        "\n",
        "11. What advantages do dictionaries offer over lists for certain tasks?\n",
        "   - Dictionaries offer several advantages over lists for tasks that involve key-value mapping or require fast lookups. Unlike lists, which require linear search to find an element, dictionaries use a hash table, providing average O(1) time complexity for access, insertion, and deletion based on keys. This makes dictionaries ideal for tasks like fast data retrieval, counting occurrences, or managing configurations. Additionally, dictionaries allow for unique key-value pairs, ensuring that each key maps to one value, while lists allow duplicate elements.\n",
        "\n",
        "12. Describe a scenario where using a tuple would be preferable over a list?\n",
        "   - A scenario where using a tuple would be preferable over a list is when you need to store a collection of values that should not change, such as coordinates in a 2D space (e.g., `(x, y)`), or a fixed configuration setting. Since tuples are immutable, they ensure the data remains constant throughout the program, providing data integrity. This is particularly useful in situations where accidental modification of the data could lead to errors or inconsistencies, such as in function arguments or as dictionary keys.\n",
        "\n",
        "13. How do sets handle duplicate values in Python?\n",
        "   - Sets in Python automatically eliminate duplicate values. When you add an element to a set, it checks if the element already exists. If it does, the set ignores the duplicate and does not add it again. This property ensures that all elements in a set are unique, making sets ideal for tasks like removing duplicates from a collection or checking for membership.\n",
        "\n",
        "14. How does the “in” keyword work differently for lists and dictionaries?\n",
        "   - In Python, the \"in\" keyword works differently for lists and dictionaries. For lists, it checks if a specified value exists as an element in the list, performing a linear search. For example, `5 in [1, 2, 3, 4, 5]` would return `True` because `5` is an element of the list. For dictionaries, the \"in\" keyword checks if a specified key exists in the dictionary, not the value. For example, `'key' in {'key': 10, 'value': 20}` would return `True` because `'key'` is a key in the dictionary, not a value.\n",
        "\n",
        "15. Can you modify the elements of a tuple? Explain why or why not?\n",
        "   - No, you cannot modify the elements of a tuple in Python because tuples are immutable. Once a tuple is created, its elements cannot be changed, added, or removed. This immutability is by design, ensuring that the data remains constant and reliable throughout the program. If you need to modify the data, you would need to create a new tuple with the desired changes.\n",
        "\n",
        "16. What is a nested dictionary, and give an example of its use case?\n",
        "   - A nested dictionary is a dictionary where the value associated with a key is another dictionary. It allows storing hierarchical or multi-level data, where each key can point to another set of key-value pairs.\n",
        "\n",
        "17. Describe the time complexity of accessing elements in a dictionary?\n",
        "   - The time complexity of accessing elements in a dictionary is O(1) on average. This is because dictionaries in Python are implemented using hash tables, which allow for constant time lookup by hashing the key to a specific index in memory. However, in rare cases of hash collisions, the time complexity could degrade to O(n), but this is uncommon in practice.\n",
        "\n",
        "18. In what situations are lists preferred over dictionaries?\n",
        "   - Lists are preferred over dictionaries in situations where the order of elements matters, or when you need to store a collection of items without needing a key-value relationship. Lists are also ideal when you need to access elements by index or iterate through all elements in sequence. Additionally, lists are more memory-efficient for storing simple, ordered collections of data compared to dictionaries, which require extra memory to store keys.\n",
        "\n",
        "19. Why are dictionaries considered unordered, and how does that affect data retrieval?\n",
        "   - Dictionaries are considered unordered because the elements are stored based on their hash values, not in any specific order. This doesn't affect data retrieval, as you access values using keys, and the lookup is efficient (O(1) on average).\n",
        "\n",
        "20. Explain the difference between a list and a dictionary in terms of data retrieval.\n",
        "   - In a list, data is retrieved using an index, which is an integer representing the position of an element. Retrieval is based on the order of elements in the list. In contrast, a dictionary retrieves data using a key, which can be any immutable type, like a string or number. The retrieval is faster in dictionaries (O(1) on average) because it uses hashing, while lists require a linear search (O(n)) when accessing elements by value."
      ],
      "metadata": {
        "id": "v5q-N0o65ZVg"
      }
    },
    {
      "cell_type": "markdown",
      "source": [
        "#PRACTICAL QUESTIONS"
      ],
      "metadata": {
        "id": "WBdjileb9Alc"
      }
    },
    {
      "cell_type": "code",
      "execution_count": 3,
      "metadata": {
        "colab": {
          "base_uri": "https://localhost:8080/"
        },
        "id": "N3JA2PKS5JZE",
        "outputId": "e21d40bd-f09e-488d-d37c-6dbe692e2a66"
      },
      "outputs": [
        {
          "output_type": "stream",
          "name": "stdout",
          "text": [
            "Jiya\n"
          ]
        }
      ],
      "source": [
        "#1. Write a code to create a string with your name and print it?\n",
        "\n",
        "my_name = \"Jiya\"\n",
        "print(my_name)\n"
      ]
    },
    {
      "cell_type": "code",
      "source": [
        "#2.  Write a code to find the length of the string \"Hello World\"?\n",
        "\n",
        "my_string = \"Hello World\"\n",
        "length = len(my_string)\n",
        "print(length)"
      ],
      "metadata": {
        "colab": {
          "base_uri": "https://localhost:8080/"
        },
        "id": "T4LfszaO9iNg",
        "outputId": "7427689b-d871-48f4-bf55-e854f086ec4b"
      },
      "execution_count": 2,
      "outputs": [
        {
          "output_type": "stream",
          "name": "stdout",
          "text": [
            "11\n"
          ]
        }
      ]
    },
    {
      "cell_type": "code",
      "source": [
        "#3. Write a code to slice the first 3 characters from the string \"Python Programming\"?\n",
        "\n",
        "my_string = \"Python Programming\"\n",
        "sliced_string = my_string[:3]\n",
        "print(sliced_string)"
      ],
      "metadata": {
        "colab": {
          "base_uri": "https://localhost:8080/"
        },
        "id": "ohuty4em98iG",
        "outputId": "298dd4d1-c558-46d3-a63c-a4b10b998ca8"
      },
      "execution_count": 4,
      "outputs": [
        {
          "output_type": "stream",
          "name": "stdout",
          "text": [
            "Pyt\n"
          ]
        }
      ]
    },
    {
      "cell_type": "code",
      "source": [
        "#4. Write a code to convert the string \"hello\" to uppercase?\n",
        "\n",
        "my_string = \"hello\"\n",
        "uppercase_string = my_string.upper()\n",
        "print(uppercase_string)"
      ],
      "metadata": {
        "colab": {
          "base_uri": "https://localhost:8080/"
        },
        "id": "VZPHg4_V-HuI",
        "outputId": "ff8b8418-148c-410b-f608-8e2da4294547"
      },
      "execution_count": 5,
      "outputs": [
        {
          "output_type": "stream",
          "name": "stdout",
          "text": [
            "HELLO\n"
          ]
        }
      ]
    },
    {
      "cell_type": "code",
      "source": [
        "#5. Write a code to replace the word \"apple\" with \"orange\" in the string \"I like apple\"?\n",
        "\n",
        "my_string = \"I like apple\"\n",
        "new_string = my_string.replace(\"apple\", \"orange\")\n",
        "print(new_string)"
      ],
      "metadata": {
        "colab": {
          "base_uri": "https://localhost:8080/"
        },
        "id": "UMbimM2e-Shb",
        "outputId": "4fba0f8c-99a4-4507-b407-03d03473305c"
      },
      "execution_count": 6,
      "outputs": [
        {
          "output_type": "stream",
          "name": "stdout",
          "text": [
            "I like orange\n"
          ]
        }
      ]
    },
    {
      "cell_type": "code",
      "source": [
        "#6. Write a code to create a list with numbers 1 to 5 and print it?\n",
        "\n",
        "my_list = [1, 2, 3, 4, 5]\n",
        "print(my_list)"
      ],
      "metadata": {
        "colab": {
          "base_uri": "https://localhost:8080/"
        },
        "id": "uCraZiz--dIS",
        "outputId": "2818b680-f6d3-44ad-c700-2ad2289ae81a"
      },
      "execution_count": 7,
      "outputs": [
        {
          "output_type": "stream",
          "name": "stdout",
          "text": [
            "[1, 2, 3, 4, 5]\n"
          ]
        }
      ]
    },
    {
      "cell_type": "code",
      "source": [
        "#7. Write a code to append the number 10 to the list [1, 2, 3, 4]?\n",
        "\n",
        "my_list = [1, 2, 3, 4]\n",
        "my_list.append(10)\n",
        "print(my_list)\n"
      ],
      "metadata": {
        "colab": {
          "base_uri": "https://localhost:8080/"
        },
        "id": "mTGkshJq-nfE",
        "outputId": "3e68aef0-fc20-4722-dfa4-24b4dfb254e5"
      },
      "execution_count": 8,
      "outputs": [
        {
          "output_type": "stream",
          "name": "stdout",
          "text": [
            "[1, 2, 3, 4, 10]\n"
          ]
        }
      ]
    },
    {
      "cell_type": "code",
      "source": [
        "#8. Write a code to remove the number 3 from the list [1, 2, 3, 4, 5]?\n",
        "\n",
        "my_list = [1, 2, 3, 4, 5]\n",
        "my_list.remove(3)\n",
        "print(my_list)"
      ],
      "metadata": {
        "colab": {
          "base_uri": "https://localhost:8080/"
        },
        "id": "YCDfqxuw-1ct",
        "outputId": "e2eea267-a510-4db6-acf7-7c0ec433ce26"
      },
      "execution_count": 9,
      "outputs": [
        {
          "output_type": "stream",
          "name": "stdout",
          "text": [
            "[1, 2, 4, 5]\n"
          ]
        }
      ]
    },
    {
      "cell_type": "code",
      "source": [
        "#9. Write a code to access the second element in the list ['a', 'b', 'c', 'd'].\n",
        "\n",
        "my_list = ['a', 'b', 'c', 'd']\n",
        "second_element = my_list[1]\n",
        "print(second_element)\n"
      ],
      "metadata": {
        "colab": {
          "base_uri": "https://localhost:8080/"
        },
        "id": "RGD6SjOx_DII",
        "outputId": "84f5681c-34d6-4644-c74a-dfb47d63ded6"
      },
      "execution_count": 10,
      "outputs": [
        {
          "output_type": "stream",
          "name": "stdout",
          "text": [
            "b\n"
          ]
        }
      ]
    },
    {
      "cell_type": "code",
      "source": [
        "#10. Write a code to reverse the list [10, 20, 30, 40, 50].\n",
        "\n",
        "my_list = [10, 20, 30, 40, 50]\n",
        "my_list.reverse()\n",
        "print(my_list)\n"
      ],
      "metadata": {
        "colab": {
          "base_uri": "https://localhost:8080/"
        },
        "id": "IOiBygB8_U6F",
        "outputId": "f59e3ab5-4842-457a-9d9c-472524c26e69"
      },
      "execution_count": 11,
      "outputs": [
        {
          "output_type": "stream",
          "name": "stdout",
          "text": [
            "[50, 40, 30, 20, 10]\n"
          ]
        }
      ]
    },
    {
      "cell_type": "code",
      "source": [
        "#11.  Write a code to create a tuple with the elements 100, 200, 300 and print it.\n",
        "\n",
        "my_tuple = (100, 200, 300)\n",
        "print(my_tuple)"
      ],
      "metadata": {
        "colab": {
          "base_uri": "https://localhost:8080/"
        },
        "id": "gE5VqGMF_mfC",
        "outputId": "bc481950-ab67-4647-f54d-c22eebb2ce69"
      },
      "execution_count": 12,
      "outputs": [
        {
          "output_type": "stream",
          "name": "stdout",
          "text": [
            "(100, 200, 300)\n"
          ]
        }
      ]
    },
    {
      "cell_type": "code",
      "source": [
        "#12. Write a code to access the second-to-last element of the tuple ('red', 'green', 'blue', 'yellow').\n",
        "\n",
        "my_tuple = ('red', 'green', 'blue', 'yellow')\n",
        "second_to_last = my_tuple[-2]\n",
        "print(second_to_last)"
      ],
      "metadata": {
        "colab": {
          "base_uri": "https://localhost:8080/"
        },
        "id": "ziys28Y-_xnT",
        "outputId": "b9abf0b4-e1da-4975-edf1-7ed54907a1f9"
      },
      "execution_count": 13,
      "outputs": [
        {
          "output_type": "stream",
          "name": "stdout",
          "text": [
            "blue\n"
          ]
        }
      ]
    },
    {
      "cell_type": "code",
      "source": [
        "#13.  Write a code to find the minimum number in the tuple (10, 20, 5, 15).\n",
        "\n",
        "my_tuple = (10, 20, 5, 15)\n",
        "min_number = min(my_tuple)\n",
        "print(min_number)"
      ],
      "metadata": {
        "colab": {
          "base_uri": "https://localhost:8080/"
        },
        "id": "UyikW0I1AAXQ",
        "outputId": "b91d26a1-540a-4086-88ab-03e7b9c6491f"
      },
      "execution_count": 14,
      "outputs": [
        {
          "output_type": "stream",
          "name": "stdout",
          "text": [
            "5\n"
          ]
        }
      ]
    },
    {
      "cell_type": "code",
      "source": [
        "#14.  Write a code to find the index of the element \"cat\" in the tuple ('dog', 'cat', 'rabbit')/\n",
        "\n",
        "my_tuple = ('dog', 'cat', 'rabbit')\n",
        "index_of_cat = my_tuple.index('cat')\n",
        "print(index_of_cat)"
      ],
      "metadata": {
        "colab": {
          "base_uri": "https://localhost:8080/"
        },
        "id": "TuV9aByyALa0",
        "outputId": "d799fc3c-2951-4163-ad84-1a86b7f41473"
      },
      "execution_count": 15,
      "outputs": [
        {
          "output_type": "stream",
          "name": "stdout",
          "text": [
            "1\n"
          ]
        }
      ]
    },
    {
      "cell_type": "code",
      "source": [
        "#15. Write a code to create a tuple containing three different fruits and check if \"kiwi\" is in it.\n",
        "\n",
        "fruit_tuple = ('apple', 'banana', 'cherry')\n",
        "is_kiwi_in_tuple = 'kiwi' in fruit_tuple\n",
        "print(is_kiwi_in_tuple)"
      ],
      "metadata": {
        "colab": {
          "base_uri": "https://localhost:8080/"
        },
        "id": "_oknQJyDAVC2",
        "outputId": "0f836d98-4885-4dc6-ee3e-dff845f082ef"
      },
      "execution_count": 16,
      "outputs": [
        {
          "output_type": "stream",
          "name": "stdout",
          "text": [
            "False\n"
          ]
        }
      ]
    },
    {
      "cell_type": "code",
      "source": [
        "#16. Write a code to create a set with the elements 'a', 'b', 'c' and print it.\n",
        "\n",
        "my_set = {'a', 'b', 'c'}\n",
        "print(my_set)"
      ],
      "metadata": {
        "colab": {
          "base_uri": "https://localhost:8080/"
        },
        "id": "qFlFsADzAhsN",
        "outputId": "e66cbc4f-0e64-4c03-acaa-1e470ceff05f"
      },
      "execution_count": 17,
      "outputs": [
        {
          "output_type": "stream",
          "name": "stdout",
          "text": [
            "{'a', 'b', 'c'}\n"
          ]
        }
      ]
    },
    {
      "cell_type": "code",
      "source": [
        "#17. Write a code to clear all elements from the set {1, 2, 3, 4, 5}.\n",
        "\n",
        "my_set = {1, 2, 3, 4, 5}\n",
        "my_set.clear()\n",
        "print(my_set)"
      ],
      "metadata": {
        "colab": {
          "base_uri": "https://localhost:8080/"
        },
        "id": "rRgNvqNUArQL",
        "outputId": "20066797-a000-44d6-9ed4-24903ff67082"
      },
      "execution_count": 18,
      "outputs": [
        {
          "output_type": "stream",
          "name": "stdout",
          "text": [
            "set()\n"
          ]
        }
      ]
    },
    {
      "cell_type": "code",
      "source": [
        "#18.  Write a code to remove the element 4 from the set {1, 2, 3, 4}.\n",
        "\n",
        "my_set = {1, 2, 3, 4}\n",
        "my_set.remove(4)\n",
        "print(my_set)"
      ],
      "metadata": {
        "colab": {
          "base_uri": "https://localhost:8080/"
        },
        "id": "7qCNS3JMA5Yr",
        "outputId": "54ec9c1f-8bfd-4e04-933c-b6d64aa9f3c4"
      },
      "execution_count": 19,
      "outputs": [
        {
          "output_type": "stream",
          "name": "stdout",
          "text": [
            "{1, 2, 3}\n"
          ]
        }
      ]
    },
    {
      "cell_type": "code",
      "source": [
        "#19.  Write a code to find the union of two sets {1, 2, 3} and {3, 4, 5}.\n",
        "\n",
        "set1 = {1, 2, 3}\n",
        "set2 = {3, 4, 5}\n",
        "union_set = set1.union(set2)\n",
        "print(union_set)"
      ],
      "metadata": {
        "colab": {
          "base_uri": "https://localhost:8080/"
        },
        "id": "okNKhSqFBCLB",
        "outputId": "9012d180-8150-4c47-e51f-29f2625946cb"
      },
      "execution_count": 20,
      "outputs": [
        {
          "output_type": "stream",
          "name": "stdout",
          "text": [
            "{1, 2, 3, 4, 5}\n"
          ]
        }
      ]
    },
    {
      "cell_type": "code",
      "source": [
        "#20.  Write a code to find the intersection of two sets {1, 2, 3} and {2, 3, 4}.\n",
        "\n",
        "set1 = {1, 2, 3}\n",
        "set2 = {2, 3, 4}\n",
        "intersection_set = set1.intersection(set2)\n",
        "print(intersection_set)"
      ],
      "metadata": {
        "colab": {
          "base_uri": "https://localhost:8080/"
        },
        "id": "2FVR9cLiBLzW",
        "outputId": "1d319116-3f4f-481c-af48-7f6571790bcd"
      },
      "execution_count": 21,
      "outputs": [
        {
          "output_type": "stream",
          "name": "stdout",
          "text": [
            "{2, 3}\n"
          ]
        }
      ]
    },
    {
      "cell_type": "code",
      "source": [
        "#21.  Write a code to create a dictionary with the keys \"name\", \"age\", and \"city\", and print it.\n",
        "\n",
        "my_dict = {\"name\": \"John\", \"age\": 25, \"city\": \"New York\"}\n",
        "print(my_dict)"
      ],
      "metadata": {
        "colab": {
          "base_uri": "https://localhost:8080/"
        },
        "id": "iWyYR3uuBVK0",
        "outputId": "4b9f0c53-6386-483b-acff-cb8b6d077866"
      },
      "execution_count": 22,
      "outputs": [
        {
          "output_type": "stream",
          "name": "stdout",
          "text": [
            "{'name': 'John', 'age': 25, 'city': 'New York'}\n"
          ]
        }
      ]
    },
    {
      "cell_type": "code",
      "source": [
        "#22.  Write a code to add a new key-value pair \"country\": \"USA\" to the dictionary {'name': 'John', 'age': 25}\n",
        "\n",
        "my_dict = {'name': 'John', 'age': 25}\n",
        "my_dict[\"country\"] = \"USA\"\n",
        "print(my_dict)"
      ],
      "metadata": {
        "colab": {
          "base_uri": "https://localhost:8080/"
        },
        "id": "yRSvObIVBe0R",
        "outputId": "de995a45-13b6-44a1-a6fa-b49051577f06"
      },
      "execution_count": 23,
      "outputs": [
        {
          "output_type": "stream",
          "name": "stdout",
          "text": [
            "{'name': 'John', 'age': 25, 'country': 'USA'}\n"
          ]
        }
      ]
    },
    {
      "cell_type": "code",
      "source": [
        "#23. Write a code to access the value associated with the key \"name\" in the dictionary {'name': 'Alice', 'age': 30}.\n",
        "\n",
        "my_dict = {'name': 'Alice', 'age': 30}\n",
        "name_value = my_dict[\"name\"]\n",
        "print(name_value)\n"
      ],
      "metadata": {
        "colab": {
          "base_uri": "https://localhost:8080/"
        },
        "id": "kxFW-PrRBqgo",
        "outputId": "9bd10264-4271-4414-c4ca-dd352a6ac21f"
      },
      "execution_count": 24,
      "outputs": [
        {
          "output_type": "stream",
          "name": "stdout",
          "text": [
            "Alice\n"
          ]
        }
      ]
    },
    {
      "cell_type": "code",
      "source": [
        "#24. Write a code to remove the key \"age\" from the dictionary {'name': 'Bob', 'age': 22, 'city': 'New York'}.\n",
        "\n",
        "my_dict = {'name': 'Bob', 'age': 22, 'city': 'New York'}\n",
        "del my_dict[\"age\"]\n",
        "print(my_dict)"
      ],
      "metadata": {
        "colab": {
          "base_uri": "https://localhost:8080/"
        },
        "id": "sMK_1ueIB02q",
        "outputId": "c9b31b38-db42-42a2-daa8-649f4760347e"
      },
      "execution_count": 25,
      "outputs": [
        {
          "output_type": "stream",
          "name": "stdout",
          "text": [
            "{'name': 'Bob', 'city': 'New York'}\n"
          ]
        }
      ]
    },
    {
      "cell_type": "code",
      "source": [
        "#25. Write a code to check if the key \"city\" exists in the dictionary {'name': 'Alice', 'city': 'Paris'}\n",
        "\n",
        "my_dict = {'name': 'Alice', 'city': 'Paris'}\n",
        "key_exists = \"city\" in my_dict\n",
        "print(key_exists)"
      ],
      "metadata": {
        "colab": {
          "base_uri": "https://localhost:8080/"
        },
        "id": "BFVYJI_RB_LV",
        "outputId": "fb40ce00-8981-40c5-afb5-af65896bd80d"
      },
      "execution_count": 26,
      "outputs": [
        {
          "output_type": "stream",
          "name": "stdout",
          "text": [
            "True\n"
          ]
        }
      ]
    },
    {
      "cell_type": "code",
      "source": [
        "#26.  Write a code to create a list, a tuple, and a dictionary, and print them all.\n",
        "\n",
        "my_list = [1, 2, 3, 4]\n",
        "my_tuple = (10, 20, 30)\n",
        "my_dict = {\"name\": \"Alice\", \"age\": 25}\n",
        "\n",
        "print(my_list)\n",
        "print(my_tuple)\n",
        "print(my_dict)"
      ],
      "metadata": {
        "colab": {
          "base_uri": "https://localhost:8080/"
        },
        "id": "mrCXMFLXCI0r",
        "outputId": "d2cbc40b-baac-4306-fef5-7681995191f0"
      },
      "execution_count": 27,
      "outputs": [
        {
          "output_type": "stream",
          "name": "stdout",
          "text": [
            "[1, 2, 3, 4]\n",
            "(10, 20, 30)\n",
            "{'name': 'Alice', 'age': 25}\n"
          ]
        }
      ]
    },
    {
      "cell_type": "code",
      "source": [
        "#27.  Write a code to create a list of 5 random numbers between 1 and 100, sort it in ascending order, and print the result (replaced).\n",
        "\n",
        "import random\n",
        "\n",
        "random_list = [random.randint(1, 100) for _ in range(5)]\n",
        "\n",
        "random_list.sort()\n",
        "\n",
        "print(random_list)"
      ],
      "metadata": {
        "id": "Hipqqd2yCT2n"
      },
      "execution_count": null,
      "outputs": []
    },
    {
      "cell_type": "code",
      "source": [
        "#28. Write a code to create a list with strings and print the element at the third index.\n",
        "\n",
        "my_list = [\"apple\", \"banana\", \"cherry\", \"date\", \"elderberry\"]\n",
        "print(my_list[3])"
      ],
      "metadata": {
        "colab": {
          "base_uri": "https://localhost:8080/"
        },
        "id": "T47xKkMRCneC",
        "outputId": "310aa380-9035-448a-8221-a7f9bbcd3802"
      },
      "execution_count": 28,
      "outputs": [
        {
          "output_type": "stream",
          "name": "stdout",
          "text": [
            "date\n"
          ]
        }
      ]
    },
    {
      "cell_type": "code",
      "source": [
        "#29.  Write a code to combine two dictionaries into one and print the result.\n",
        "\n",
        "dict1 = {\"name\": \"Alice\", \"age\": 25}\n",
        "dict2 = {\"city\": \"Paris\", \"country\": \"France\"}\n",
        "\n",
        "combined_dict = {**dict1, **dict2}\n",
        "\n",
        "print(combined_dict)"
      ],
      "metadata": {
        "colab": {
          "base_uri": "https://localhost:8080/"
        },
        "id": "b9EbOOdsCwh8",
        "outputId": "4551dc9a-6ba3-4438-a6c6-44567cf858e4"
      },
      "execution_count": 29,
      "outputs": [
        {
          "output_type": "stream",
          "name": "stdout",
          "text": [
            "{'name': 'Alice', 'age': 25, 'city': 'Paris', 'country': 'France'}\n"
          ]
        }
      ]
    },
    {
      "cell_type": "code",
      "source": [
        "#30. Write a code to convert a list of strings into a set.\n",
        "\n",
        "my_list = [\"apple\", \"banana\", \"cherry\", \"apple\", \"banana\"]\n",
        "my_set = set(my_list)\n",
        "\n",
        "print(my_set)"
      ],
      "metadata": {
        "colab": {
          "base_uri": "https://localhost:8080/"
        },
        "id": "5JPwB-RLC-BL",
        "outputId": "5b7a1195-b986-44de-ab4e-eab18593487f"
      },
      "execution_count": 30,
      "outputs": [
        {
          "output_type": "stream",
          "name": "stdout",
          "text": [
            "{'banana', 'cherry', 'apple'}\n"
          ]
        }
      ]
    }
  ]
}